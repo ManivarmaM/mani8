{
 "cells": [
  {
   "cell_type": "code",
   "execution_count": 18,
   "metadata": {},
   "outputs": [
    {
     "name": "stdout",
     "output_type": "stream",
     "text": [
      "manivarma\n"
     ]
    }
   ],
   "source": [
    "def remove(string,i):  \n",
    "    a=string[:i]  \n",
    "    b=string[i+1:] \n",
    "    return a+b \n",
    "if __name__ == '__main__': \n",
    "      \n",
    "    string = \"manivcarma\"\n",
    "    i = 5\n",
    "    print(remove(string,i)) "
   ]
  },
  {
   "cell_type": "code",
   "execution_count": null,
   "metadata": {},
   "outputs": [],
   "source": []
  }
 ],
 "metadata": {
  "kernelspec": {
   "display_name": "Python 3",
   "language": "python",
   "name": "python3"
  },
  "language_info": {
   "codemirror_mode": {
    "name": "ipython",
    "version": 3
   },
   "file_extension": ".py",
   "mimetype": "text/x-python",
   "name": "python",
   "nbconvert_exporter": "python",
   "pygments_lexer": "ipython3",
   "version": "3.8.3"
  }
 },
 "nbformat": 4,
 "nbformat_minor": 4
}
